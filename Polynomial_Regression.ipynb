{
  "nbformat": 4,
  "nbformat_minor": 0,
  "metadata": {
    "colab": {
      "name": "Polynomial_Regression.ipynb",
      "provenance": [],
      "authorship_tag": "ABX9TyMxJaeB+V2BWDjOi3Duznz+",
      "include_colab_link": true
    },
    "kernelspec": {
      "name": "python3",
      "display_name": "Python 3"
    },
    "language_info": {
      "name": "python"
    }
  },
  "cells": [
    {
      "cell_type": "markdown",
      "metadata": {
        "id": "view-in-github",
        "colab_type": "text"
      },
      "source": [
        "<a href=\"https://colab.research.google.com/github/cesarisaza/Test_00/blob/main/Polynomial_Regression.ipynb\" target=\"_parent\"><img src=\"https://colab.research.google.com/assets/colab-badge.svg\" alt=\"Open In Colab\"/></a>"
      ]
    },
    {
      "cell_type": "code",
      "metadata": {
        "colab": {
          "base_uri": "https://localhost:8080/",
          "height": 281
        },
        "id": "aw1OiE_bpD8f",
        "outputId": "476a01f8-c5a8-459a-a5d7-54f979f54d3c"
      },
      "source": [
        "# Test changes\n",
        "\n",
        "# Second changes...\n",
        "\n",
        "\n",
        "\n",
        "import pandas as pd\n",
        "xdic={'Temperatura': {11: 300, 12: 170, 13: 288, 14: 360, 15: 319, 16: 330, 17: 520, 18: 345, 19: 399, 20: 479}}\n",
        "ydic={'Salinidad': {11: 305000, 12: 270000, 13: 360000, 14: 370000, 15: 379000, 16: 405000, 17: 407500, 18: 450000, 19: 450000, 20: 485000}}\n",
        "X=pd.DataFrame.from_dict(xdic)\n",
        "y=pd.DataFrame.from_dict(ydic)\n",
        "import numpy as np\n",
        "X_seq = np.linspace(X.min(),X.max(),300).reshape(-1,1)\n",
        "\n",
        "from sklearn.preprocessing import PolynomialFeatures\n",
        "from sklearn.pipeline import make_pipeline\n",
        "from sklearn.linear_model import LinearRegression\n",
        "degree=2\n",
        "polyreg=make_pipeline(PolynomialFeatures(degree),LinearRegression())\n",
        "polyreg.fit(X,y)\n",
        "\n",
        "import matplotlib.pyplot as plt\n",
        "plt.figure()\n",
        "plt.scatter(X,y)\n",
        "plt.plot(X_seq,polyreg.predict(X_seq),color=\"black\")\n",
        "plt.title(\"Polynomial regression with degree \"+str(degree))\n",
        "plt.show()\n",
        "\n",
        "\n",
        "coefs = np.polyfit(X.values.flatten(), y.values.flatten(), 9)\n"
      ],
      "execution_count": 5,
      "outputs": [
        {
          "output_type": "display_data",
          "data": {
            "image/png": "[encoded data removed]",
            "text/plain": [
              "<Figure size 432x288 with 1 Axes>"
            ]
          },
          "metadata": {
            "needs_background": "light"
          }
        }
      ]
    },
    {
      "cell_type": "code",
      "metadata": {
        "id": "AusQik8ppLdf",
        "colab": {
          "base_uri": "https://localhost:8080/",
          "height": 338
        },
        "outputId": "cf402f4d-2698-49c5-d42d-13ba68a757ac"
      },
      "source": [
        "from sklearn.linear_model import LinearRegression  \n",
        "from sklearn.preprocessing import PolynomialFeatures \n",
        "from sklearn.metrics import mean_squared_error, r2_score\n",
        "\n",
        "import matplotlib.pyplot as plt\n",
        "import numpy as np\n",
        "import random\n",
        "\n",
        "#----------------------------------------------------------------------------------------#\n",
        "# Step 1: training data\n",
        "\n",
        "X = [i for i in range(10)]\n",
        "Y = [random.gauss(x,0.75) for x in X]\n",
        "\n",
        "X = np.asarray(X)\n",
        "Y = np.asarray(Y)\n",
        "\n",
        "X = X[:,np.newaxis]\n",
        "Y = Y[:,np.newaxis]\n",
        "\n",
        "plt.scatter(X,Y)\n",
        "\n",
        "#----------------------------------------------------------------------------------------#\n",
        "# Step 2: data preparation\n",
        "\n",
        "nb_degree = 5\n",
        "\n",
        "polynomial_features = PolynomialFeatures(degree = nb_degree)\n",
        "\n",
        "X_TRANSF = polynomial_features.fit_transform(X)\n",
        "\n",
        "#----------------------------------------------------------------------------------------#\n",
        "# Step 3: define and train a model\n",
        "\n",
        "model = LinearRegression()\n",
        "\n",
        "model.fit(X_TRANSF, Y)\n",
        "\n",
        "#----------------------------------------------------------------------------------------#\n",
        "# Step 4: calculate bias and variance\n",
        "\n",
        "Y_NEW = model.predict(X_TRANSF)\n",
        "\n",
        "rmse = np.sqrt(mean_squared_error(Y,Y_NEW))\n",
        "r2 = r2_score(Y,Y_NEW)\n",
        "\n",
        "print('RMSE: ', rmse)\n",
        "print('R2: ', r2)\n",
        "\n",
        "#----------------------------------------------------------------------------------------#\n",
        "# Step 5: prediction\n",
        "\n",
        "x_new_min = 0.0\n",
        "x_new_max = 10.0\n",
        "\n",
        "X_NEW = np.linspace(x_new_min, x_new_max, 100)\n",
        "X_NEW = X_NEW[:,np.newaxis]\n",
        "\n",
        "X_NEW_TRANSF = polynomial_features.fit_transform(X_NEW)\n",
        "\n",
        "Y_NEW = model.predict(X_NEW_TRANSF)\n",
        "\n",
        "plt.plot(X_NEW, Y_NEW, color='coral', linewidth=3)\n",
        "\n",
        "plt.grid()\n",
        "plt.xlim(x_new_min,x_new_max)\n",
        "plt.ylim(0,10)\n",
        "\n",
        "title = 'Degree = {}; RMSE = {}; R2 = {}'.format(nb_degree, round(rmse,2), round(r2,2))\n",
        "\n",
        "plt.title(\"Polynomial Linear Regression using scikit-learn and python 3 \\n \" + title,\n",
        "          fontsize=10)\n",
        "plt.xlabel('x')\n",
        "plt.ylabel('y')\n",
        "\n",
        "plt.savefig(\"polynomial_linear_regression.png\", bbox_inches='tight')\n",
        "plt.show()"
      ],
      "execution_count": null,
      "outputs": [
        {
          "output_type": "stream",
          "name": "stdout",
          "text": [
            "RMSE:  0.49850943940841086\n",
            "R2:  0.9585189711977764\n"
          ]
        },
        {
          "output_type": "display_data",
          "data": {
            "image/png": "[encoded data removed]",
            "text/plain": [
              "<Figure size 432x288 with 1 Axes>"
            ]
          },
          "metadata": {
            "needs_background": "light"
          }
        }
      ]
    },
    {
      "cell_type": "markdown",
      "metadata": {
        "id": "7M6Cw4PCpkmu"
      },
      "source": [
        "El texto solo es descriptivo e informativo!!\n",
        "No compila!!\n",
        "\n"
      ]
    }
  ]
}